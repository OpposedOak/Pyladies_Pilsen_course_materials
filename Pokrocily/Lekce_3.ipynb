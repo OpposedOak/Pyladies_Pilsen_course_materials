{
 "cells": [
  {
   "cell_type": "markdown",
   "id": "46c9a73a",
   "metadata": {},
   "source": [
    "# Lambda funkce\n",
    "* ### užitečné odkazy:\n",
    "* lambda kalkuk:  \n",
    "https://kam.mff.cuni.cz/~koncicky/vyuka/1920/nprg/haskell-uvod.html  \n",
    "* lambda funkce:  \n",
    "https://www.guru99.com/python-lambda-function.html\n",
    "* lambda funkce - použití v Pandas:  \n",
    "https://towardsdatascience.com/lambda-functions-with-practical-examples-in-python-45934f3653a8\n",
    "* list comprehension:  \n",
    "https://realpython.com/list-comprehension-python/"
   ]
  },
  {
   "cell_type": "markdown",
   "id": "67bf32eb",
   "metadata": {},
   "source": [
    "### Souhrn:\n",
    "- Lambda funkce jsou anonymní funkce\n",
    "- Skládají se ze tří částí: klíčového slova lambda, paramteru a výrazu(těla funkce)\n",
    "- Sytntaxe: klíčovéslovo lambda parametr.výraz\n",
    "- Mohou mít libovolný počet parametrů, ale pouze jeden výraz\n",
    "- Lambda funkce se používají zpravilda společně s funkcemi vyšších řádů\n",
    "- Časté použití s funkcemi filter() , map() , reduce()\n",
    "- Lambda funkce jsou využívané v Pandas pro filtraci dat\n",
    "- Nepoužívejte Lambda funkce a list comprehension na úkor srozumitelnosti a čitelnosti\n",
    "\n"
   ]
  },
  {
   "cell_type": "markdown",
   "id": "5269d1e1",
   "metadata": {},
   "source": [
    "### Lambda kalkuk:  \n",
    "1) Jak vznikl ?  \n",
    "2) Co to je ?  \n",
    "3) K čemu se používá ? "
   ]
  },
  {
   "cell_type": "markdown",
   "id": "05eebda3",
   "metadata": {},
   "source": [
    "x ------>[funkce]------> x+1 (funkce je black box a neuchovává si vnitřní stav, například nemá žádné konstanty)"
   ]
  },
  {
   "cell_type": "markdown",
   "id": "efbad39f",
   "metadata": {},
   "source": [
    "<img src=https://cacm.acm.org/system/assets/0003/3508/121518_AChurch-AMTuring.large.jpg?1545074444&1545074444>"
   ]
  },
  {
   "cell_type": "markdown",
   "id": "880cce1d",
   "metadata": {},
   "source": [
    "### Co  je lambda kalkul ?"
   ]
  },
  {
   "cell_type": "markdown",
   "id": "9182b3b9",
   "metadata": {},
   "source": [
    "#### Funkce jedné proměnné"
   ]
  },
  {
   "cell_type": "code",
   "execution_count": 104,
   "id": "2294e973",
   "metadata": {},
   "outputs": [],
   "source": [
    "def funkce(x):\n",
    "    return x*x"
   ]
  },
  {
   "cell_type": "code",
   "execution_count": 42,
   "id": "141a2081",
   "metadata": {},
   "outputs": [
    {
     "data": {
      "text/plain": [
       "<function __main__.funkce(x)>"
      ]
     },
     "execution_count": 42,
     "metadata": {},
     "output_type": "execute_result"
    }
   ],
   "source": [
    "funkce"
   ]
  },
  {
   "cell_type": "markdown",
   "id": "f2f09475",
   "metadata": {},
   "source": [
    "$Lambda\\space argumenty. výraz$"
   ]
  },
  {
   "cell_type": "markdown",
   "id": "45ef3cf3",
   "metadata": {},
   "source": [
    "$\\lambda x.x*x$"
   ]
  },
  {
   "cell_type": "code",
   "execution_count": 103,
   "id": "128b2ceb",
   "metadata": {},
   "outputs": [
    {
     "data": {
      "text/plain": [
       "<function __main__.<lambda>(x)>"
      ]
     },
     "execution_count": 103,
     "metadata": {},
     "output_type": "execute_result"
    }
   ],
   "source": [
    "lambda x: x*x"
   ]
  },
  {
   "cell_type": "code",
   "execution_count": 107,
   "id": "4256ab0c",
   "metadata": {},
   "outputs": [
    {
     "data": {
      "text/plain": [
       "4"
      ]
     },
     "execution_count": 107,
     "metadata": {},
     "output_type": "execute_result"
    }
   ],
   "source": [
    "funkce(2)"
   ]
  },
  {
   "cell_type": "markdown",
   "id": "488baeb3",
   "metadata": {},
   "source": [
    "$(\\lambda x.x*x)\\space2$"
   ]
  },
  {
   "cell_type": "code",
   "execution_count": 108,
   "id": "4dc37274",
   "metadata": {
    "scrolled": true
   },
   "outputs": [
    {
     "data": {
      "text/plain": [
       "4"
      ]
     },
     "execution_count": 108,
     "metadata": {},
     "output_type": "execute_result"
    }
   ],
   "source": [
    "(lambda x: x*x)(2)"
   ]
  },
  {
   "cell_type": "markdown",
   "id": "17d080ad",
   "metadata": {},
   "source": [
    "#### Funkce více proměnných"
   ]
  },
  {
   "cell_type": "markdown",
   "id": "bf6c9420",
   "metadata": {},
   "source": [
    "$\\lambda x.\\lambda y.x+y$"
   ]
  },
  {
   "cell_type": "code",
   "execution_count": null,
   "id": "e98eda44",
   "metadata": {},
   "outputs": [],
   "source": [
    "def funkce_1(x,y):\n",
    "    return x + y"
   ]
  },
  {
   "cell_type": "markdown",
   "id": "b63f496d",
   "metadata": {},
   "source": [
    "### K čemu  je lambda kalkul ?"
   ]
  },
  {
   "cell_type": "markdown",
   "id": "117ef6f3",
   "metadata": {},
   "source": [
    " - __Vyčíslitelnost__:  \n",
    " <br>\n",
    " Algoritmická řešitelnost problémů\n",
    " - __Psaní \"čistých\" funkcí__:\n",
    " <br> \n",
    " Čisté funkce závisí pouze na parametrech a vrátí vždy stejný výsledek pro stejné parametry(bez vedlejších efektů)"
   ]
  },
  {
   "cell_type": "markdown",
   "id": "33ae2981",
   "metadata": {},
   "source": [
    "__True a False__  \n",
    "$T =\\lambda x.\\lambda y. x  $  \n",
    "$F =\\lambda x.\\lambda y. y  $"
   ]
  },
  {
   "cell_type": "markdown",
   "id": "5d0a74e9",
   "metadata": {},
   "source": [
    "__IF__  \n",
    "$IF =\\lambda b \\space t \\space  f.b \\space t \\space f $  \n"
   ]
  },
  {
   "cell_type": "markdown",
   "id": "d4b88069",
   "metadata": {},
   "source": [
    "__rekurze__  \n",
    "$Y=\\lambda f.(\\lambda x.f(xx))\\space (\\lambda x.f(xx))$"
   ]
  },
  {
   "cell_type": "markdown",
   "id": "0cc24a7e",
   "metadata": {},
   "source": [
    "<img src = https://memegenerator.net/img/images/300x300/12757460.jpg>"
   ]
  },
  {
   "cell_type": "markdown",
   "id": "483a578f",
   "metadata": {},
   "source": [
    "### K čemu je lambda kalkul v pythonu ?"
   ]
  },
  {
   "cell_type": "markdown",
   "id": "0a300645",
   "metadata": {},
   "source": [
    "\"Lambda funkce je anonymní funkce, která může mít libovolný počet argumentů, ale pouze jeden výraz\"  "
   ]
  },
  {
   "cell_type": "markdown",
   "id": "b14c413d",
   "metadata": {},
   "source": [
    "### Jednoduchá Lambda funkce"
   ]
  },
  {
   "cell_type": "code",
   "execution_count": 94,
   "id": "5bfaf70b",
   "metadata": {},
   "outputs": [
    {
     "data": {
      "text/plain": [
       "<function __main__.<lambda>(x)>"
      ]
     },
     "execution_count": 94,
     "metadata": {},
     "output_type": "execute_result"
    }
   ],
   "source": [
    "lambda x: x*2"
   ]
  },
  {
   "cell_type": "code",
   "execution_count": 102,
   "id": "b48b67b3",
   "metadata": {},
   "outputs": [
    {
     "data": {
      "text/plain": [
       "20"
      ]
     },
     "execution_count": 102,
     "metadata": {},
     "output_type": "execute_result"
    }
   ],
   "source": [
    "# Správná syntaxe\n",
    "(lambda x: x*2)(10)"
   ]
  },
  {
   "cell_type": "code",
   "execution_count": 101,
   "id": "7c0f6c86",
   "metadata": {},
   "outputs": [],
   "source": [
    "# Špatná syntaxe\n",
    "A = lambda x: x*2"
   ]
  },
  {
   "cell_type": "code",
   "execution_count": 97,
   "id": "8d6824bc",
   "metadata": {},
   "outputs": [
    {
     "data": {
      "text/plain": [
       "20"
      ]
     },
     "execution_count": 97,
     "metadata": {},
     "output_type": "execute_result"
    }
   ],
   "source": [
    "A(10)"
   ]
  },
  {
   "cell_type": "markdown",
   "id": "f5fc104c",
   "metadata": {},
   "source": [
    "### Lambda a podmínky"
   ]
  },
  {
   "cell_type": "code",
   "execution_count": 164,
   "id": "71252d7e",
   "metadata": {},
   "outputs": [
    {
     "data": {
      "text/plain": [
       "10"
      ]
     },
     "execution_count": 164,
     "metadata": {},
     "output_type": "execute_result"
    }
   ],
   "source": [
    "(lambda x: x)(10) "
   ]
  },
  {
   "cell_type": "code",
   "execution_count": 168,
   "id": "91c30599",
   "metadata": {},
   "outputs": [
    {
     "data": {
      "text/plain": [
       "10"
      ]
     },
     "execution_count": 168,
     "metadata": {},
     "output_type": "execute_result"
    }
   ],
   "source": [
    "(lambda x: x if(x>0) else \"Záporné číslo\")(10) "
   ]
  },
  {
   "cell_type": "markdown",
   "id": "2b662ba8",
   "metadata": {},
   "source": [
    "### fliter()"
   ]
  },
  {
   "cell_type": "code",
   "execution_count": 67,
   "id": "b1cea8fd",
   "metadata": {},
   "outputs": [],
   "source": [
    "def flt(x):\n",
    "    if x >10:\n",
    "        return x    "
   ]
  },
  {
   "cell_type": "code",
   "execution_count": 69,
   "id": "812facbd",
   "metadata": {},
   "outputs": [
    {
     "data": {
      "text/plain": [
       "[100, 25, 89, 65, 84, 21, 15, 65, 98, 44, 48, 45]"
      ]
     },
     "execution_count": 69,
     "metadata": {},
     "output_type": "execute_result"
    }
   ],
   "source": [
    "sez = [0,100,25,3,4,5,89,65,84,1,21,15,65,98,44,48,8,45]\n",
    "\n",
    "filtered = filter(flt, sez)\n",
    "list(filtered)"
   ]
  },
  {
   "cell_type": "code",
   "execution_count": 70,
   "id": "e374ecac",
   "metadata": {},
   "outputs": [
    {
     "data": {
      "text/plain": [
       "[100, 25, 89, 65, 84, 21, 15, 65, 98, 44, 48, 45]"
      ]
     },
     "execution_count": 70,
     "metadata": {},
     "output_type": "execute_result"
    }
   ],
   "source": [
    "sez = [0,100,25,3,4,5,89,65,84,1,21,15,65,98,44,48,8,45]\n",
    "\n",
    "flt = lambda x: x > 10\n",
    "filtered = filter(flt, sez)\n",
    "list(filtered)"
   ]
  },
  {
   "cell_type": "code",
   "execution_count": 60,
   "id": "7e644bb0",
   "metadata": {},
   "outputs": [
    {
     "data": {
      "text/plain": [
       "[100, 25, 89, 65, 84, 21, 15, 65, 98, 44, 48, 45]"
      ]
     },
     "execution_count": 60,
     "metadata": {},
     "output_type": "execute_result"
    }
   ],
   "source": [
    "sez = [0,100,25,3,4,5,89,65,84,1,21,15,65,98,44,48,8,45]\n",
    "\n",
    "filtered = filter(lambda x: x > 10, sez)\n",
    "list(filtered)"
   ]
  },
  {
   "cell_type": "markdown",
   "id": "7a2f80d0",
   "metadata": {},
   "source": [
    "### map()"
   ]
  },
  {
   "cell_type": "code",
   "execution_count": null,
   "id": "c84a4694",
   "metadata": {},
   "outputs": [],
   "source": [
    "def mapa(x):\n",
    "    return x + 10"
   ]
  },
  {
   "cell_type": "code",
   "execution_count": 71,
   "id": "860c2d77",
   "metadata": {},
   "outputs": [
    {
     "data": {
      "text/plain": [
       "[11, 12, 13, 14, 15]"
      ]
     },
     "execution_count": 71,
     "metadata": {},
     "output_type": "execute_result"
    }
   ],
   "source": [
    "sez = [1,2,3,4,5]\n",
    "mapped = map (mapa, sez) \n",
    "list(mapped)"
   ]
  },
  {
   "cell_type": "code",
   "execution_count": 72,
   "id": "395625d0",
   "metadata": {},
   "outputs": [
    {
     "data": {
      "text/plain": [
       "[11, 12, 13, 14, 15]"
      ]
     },
     "execution_count": 72,
     "metadata": {},
     "output_type": "execute_result"
    }
   ],
   "source": [
    "sez = [1,2,3,4,5]\n",
    "mapa = lambda x: x+10\n",
    "mapped = map (mapa, sez) \n",
    "list(mapped)"
   ]
  },
  {
   "cell_type": "code",
   "execution_count": 73,
   "id": "76984464",
   "metadata": {},
   "outputs": [
    {
     "data": {
      "text/plain": [
       "[11, 12, 13, 14, 15]"
      ]
     },
     "execution_count": 73,
     "metadata": {},
     "output_type": "execute_result"
    }
   ],
   "source": [
    "sez = [1,2,3,4,5]\n",
    "mapped = map (lambda x: x+10, sez) \n",
    "list(mapped)\n"
   ]
  },
  {
   "cell_type": "markdown",
   "id": "47afc762",
   "metadata": {},
   "source": [
    "## List comprehension"
   ]
  },
  {
   "cell_type": "markdown",
   "id": "fc4b6e55",
   "metadata": {},
   "source": [
    "#### Prostý list comnprehension\n",
    "__Syntaxe__:\n",
    "<br>\n",
    "novy_seznam = [výraz for prvek in iterable]"
   ]
  },
  {
   "cell_type": "code",
   "execution_count": 162,
   "id": "a4af8fbf",
   "metadata": {},
   "outputs": [
    {
     "data": {
      "text/plain": [
       "[0, 1, 4, 9, 16, 25, 36, 49, 64, 81]"
      ]
     },
     "execution_count": 162,
     "metadata": {},
     "output_type": "execute_result"
    }
   ],
   "source": [
    "novy_seznam = [x*x for x in range(10)]\n",
    "novy_seznam"
   ]
  },
  {
   "cell_type": "code",
   "execution_count": 163,
   "id": "0b2bd062",
   "metadata": {
    "scrolled": true
   },
   "outputs": [
    {
     "data": {
      "text/plain": [
       "[0, 1, 4, 9, 16, 25, 36, 49, 64, 81]"
      ]
     },
     "execution_count": 163,
     "metadata": {},
     "output_type": "execute_result"
    }
   ],
   "source": [
    "novy_seznam = []\n",
    "\n",
    "for x in range(10):\n",
    "    novy_seznam.append(x*x)\n",
    "novy_seznam"
   ]
  },
  {
   "cell_type": "markdown",
   "id": "61351251",
   "metadata": {},
   "source": [
    "#### List comprehension a podmínky\n",
    "__Syntaxe__:\n",
    "<br>\n",
    "novy_seznam = [výraz for prvek in iterable if podminka == True]"
   ]
  },
  {
   "cell_type": "code",
   "execution_count": 155,
   "id": "46ddc1f9",
   "metadata": {},
   "outputs": [
    {
     "data": {
      "text/plain": [
       "[0, 2, 4, 6, 8]"
      ]
     },
     "execution_count": 155,
     "metadata": {},
     "output_type": "execute_result"
    }
   ],
   "source": [
    "novy_seznam = [x for x in range(10) if x%2 == 0]\n",
    "novy_seznam"
   ]
  },
  {
   "cell_type": "code",
   "execution_count": 153,
   "id": "8130b6aa",
   "metadata": {},
   "outputs": [
    {
     "data": {
      "text/plain": [
       "[0, 2, 4, 6, 8]"
      ]
     },
     "execution_count": 153,
     "metadata": {},
     "output_type": "execute_result"
    }
   ],
   "source": [
    "novy_seznam = []\n",
    "\n",
    "for i in range(10):\n",
    "    if i%2 == 0:\n",
    "        novy_seznam.append(i)\n",
    "novy_seznam"
   ]
  },
  {
   "cell_type": "markdown",
   "id": "088e8f98",
   "metadata": {},
   "source": [
    "### Bonus 0 : Generator vs List comprehension"
   ]
  },
  {
   "cell_type": "code",
   "execution_count": 269,
   "id": "3fc74d44",
   "metadata": {},
   "outputs": [],
   "source": [
    "list_comprehension = [x**2 for x in range(100)]"
   ]
  },
  {
   "cell_type": "code",
   "execution_count": 270,
   "id": "9cc1ef5c",
   "metadata": {},
   "outputs": [
    {
     "data": {
      "text/plain": [
       "100"
      ]
     },
     "execution_count": 270,
     "metadata": {},
     "output_type": "execute_result"
    }
   ],
   "source": [
    "list_comprehension[10]"
   ]
  },
  {
   "cell_type": "code",
   "execution_count": 271,
   "id": "8385559f",
   "metadata": {},
   "outputs": [],
   "source": [
    "genrator = (x**2 for x in range(100))"
   ]
  },
  {
   "cell_type": "code",
   "execution_count": 273,
   "id": "54514bb0",
   "metadata": {},
   "outputs": [
    {
     "name": "stdout",
     "output_type": "stream",
     "text": [
      "0 1 4 9 16 25 36 49 64 81 100 121 144 169 196 225 256 289 324 361 400 441 484 529 576 625 676 729 784 841 900 961 1024 1089 1156 1225 1296 1369 1444 1521 1600 1681 1764 1849 1936 2025 2116 2209 2304 2401 2500 2601 2704 2809 2916 3025 3136 3249 3364 3481 3600 3721 3844 3969 4096 4225 4356 4489 4624 4761 4900 5041 5184 5329 5476 5625 5776 5929 6084 6241 6400 6561 6724 6889 7056 7225 7396 7569 7744 7921 8100 8281 8464 8649 8836 9025 9216 9409 9604 9801 "
     ]
    }
   ],
   "source": [
    "for i in genrator:\n",
    "    print(i, end=\" \")"
   ]
  },
  {
   "cell_type": "markdown",
   "id": "c453d5bc",
   "metadata": {},
   "source": [
    "### Bonus 1 : Walrus"
   ]
  },
  {
   "cell_type": "code",
   "execution_count": 170,
   "id": "94bcbc0e",
   "metadata": {},
   "outputs": [
    {
     "data": {
      "text/plain": [
       "True"
      ]
     },
     "execution_count": 170,
     "metadata": {},
     "output_type": "execute_result"
    }
   ],
   "source": [
    "T = True\n",
    "T"
   ]
  },
  {
   "cell_type": "code",
   "execution_count": 171,
   "id": "1d664254",
   "metadata": {},
   "outputs": [
    {
     "data": {
      "text/plain": [
       "False"
      ]
     },
     "execution_count": 171,
     "metadata": {},
     "output_type": "execute_result"
    }
   ],
   "source": [
    "F=False\n",
    "F"
   ]
  },
  {
   "cell_type": "code",
   "execution_count": 173,
   "id": "fb208ac9",
   "metadata": {},
   "outputs": [
    {
     "data": {
      "text/plain": [
       "True"
      ]
     },
     "execution_count": 173,
     "metadata": {},
     "output_type": "execute_result"
    }
   ],
   "source": [
    "(F:=True)"
   ]
  },
  {
   "cell_type": "code",
   "execution_count": 175,
   "id": "801e8210",
   "metadata": {},
   "outputs": [],
   "source": [
    "def double(x):\n",
    "    return x*x"
   ]
  },
  {
   "cell_type": "code",
   "execution_count": 181,
   "id": "0fb96685",
   "metadata": {},
   "outputs": [],
   "source": [
    "a = 10 + (x:=double(2))"
   ]
  },
  {
   "cell_type": "code",
   "execution_count": 182,
   "id": "feaac6e7",
   "metadata": {},
   "outputs": [
    {
     "data": {
      "text/plain": [
       "4"
      ]
     },
     "execution_count": 182,
     "metadata": {},
     "output_type": "execute_result"
    }
   ],
   "source": [
    "x"
   ]
  }
 ],
 "metadata": {
  "kernelspec": {
   "display_name": "Python 3",
   "language": "python",
   "name": "python3"
  },
  "language_info": {
   "codemirror_mode": {
    "name": "ipython",
    "version": 3
   },
   "file_extension": ".py",
   "mimetype": "text/x-python",
   "name": "python",
   "nbconvert_exporter": "python",
   "pygments_lexer": "ipython3",
   "version": "3.8.8"
  }
 },
 "nbformat": 4,
 "nbformat_minor": 5
}
