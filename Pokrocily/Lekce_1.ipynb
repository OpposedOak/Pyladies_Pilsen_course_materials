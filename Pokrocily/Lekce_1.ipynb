{
 "cells": [
  {
   "cell_type": "markdown",
   "id": "b3d2896f",
   "metadata": {},
   "source": [
    "# OOP LEKCE 1\n"
   ]
  },
  {
   "cell_type": "markdown",
   "id": "088137a7",
   "metadata": {},
   "source": [
    "### Užitečné odkazy"
   ]
  },
  {
   "cell_type": "markdown",
   "id": "d02c6f82",
   "metadata": {},
   "source": [
    "#### *Zákaldy OOP*\n",
    "* https://github.com/jakub85/PythonOOP\n",
    "\n",
    "#### *Pokročilé OOP*\n",
    "* https://naucse.python.cz/course/mi-pyt/intro/magic/\n",
    "\n",
    "#### *Dekorátory*\n",
    "* https://realpython.com/primer-on-python-decorators/\n"
   ]
  },
  {
   "cell_type": "markdown",
   "id": "dd3398ef",
   "metadata": {},
   "source": [
    "## KAPITOLA 1: SCOPE"
   ]
  },
  {
   "cell_type": "markdown",
   "id": "5a8405c4",
   "metadata": {},
   "source": [
    "![](https://pythonsimplified.com/ezoimgfmt/mlc28azwhs4j.i.optimole.com/LCn8L6U-EM6U4rmg/w:1024/h:648/q:eco/https://pythonsimplified.com/wp-content/uploads/2021/11/Types-of-scope-in-Python.jpg?ezimgfmt=rs:700x443/rscb3/ng:webp/ngcb3)"
   ]
  },
  {
   "cell_type": "code",
   "execution_count": 34,
   "id": "05a6e588",
   "metadata": {},
   "outputs": [
    {
     "name": "stdout",
     "output_type": "stream",
     "text": [
      "local\n",
      "global\n"
     ]
    }
   ],
   "source": [
    "# L\n",
    "a = \"global\"\n",
    "def funkce():\n",
    "    a = \"local\"\n",
    "    print(a)\n",
    "\n",
    "funkce()\n",
    "print(a)"
   ]
  },
  {
   "cell_type": "code",
   "execution_count": 90,
   "id": "5c83c147",
   "metadata": {},
   "outputs": [
    {
     "name": "stdout",
     "output_type": "stream",
     "text": [
      "global\n",
      "global\n"
     ]
    }
   ],
   "source": [
    "# G\n",
    "a = \"global\"\n",
    "def funkce():\n",
    "    def vnitrni_funkce():\n",
    "        print(a)\n",
    "    vnitrni_funkce()\n",
    "\n",
    "funkce()\n",
    "print(a)"
   ]
  },
  {
   "cell_type": "code",
   "execution_count": 93,
   "id": "5d41bc02",
   "metadata": {},
   "outputs": [
    {
     "name": "stdout",
     "output_type": "stream",
     "text": [
      "enclosing\n",
      "global\n"
     ]
    }
   ],
   "source": [
    "# E\n",
    "a = \"global\"\n",
    "def funkce():\n",
    "    a = \"enclosing\"\n",
    "    def vnitrni_funkce():\n",
    "        print(a)\n",
    "    vnitrni_funkce()\n",
    "    \n",
    "funkce()\n",
    "print(a)"
   ]
  },
  {
   "cell_type": "code",
   "execution_count": 87,
   "id": "3332e791",
   "metadata": {},
   "outputs": [
    {
     "name": "stdout",
     "output_type": "stream",
     "text": [
      "None\n"
     ]
    }
   ],
   "source": [
    "# B\n",
    "def funkce():\n",
    "    print(None)\n",
    "\n",
    "funkce()"
   ]
  },
  {
   "cell_type": "markdown",
   "id": "a86b897b",
   "metadata": {},
   "source": [
    "### Chyták 1 - změna scope"
   ]
  },
  {
   "cell_type": "code",
   "execution_count": 98,
   "id": "488f9b4e",
   "metadata": {
    "scrolled": false
   },
   "outputs": [
    {
     "data": {
      "text/plain": [
       "'local'"
      ]
     },
     "execution_count": 98,
     "metadata": {},
     "output_type": "execute_result"
    }
   ],
   "source": [
    "a = \"global\"\n",
    "def funkce():\n",
    "    global a\n",
    "    a = \"local\"\n",
    "funkce()\n",
    "a"
   ]
  },
  {
   "cell_type": "markdown",
   "id": "ea49974a",
   "metadata": {},
   "source": [
    "### Chyták 2 - Mutable defaults"
   ]
  },
  {
   "cell_type": "code",
   "execution_count": 39,
   "id": "0180d82f",
   "metadata": {},
   "outputs": [],
   "source": [
    "def pridej_prvek(prvek,sez = []):\n",
    "    sez.append(prvek)\n",
    "    return sez"
   ]
  },
  {
   "cell_type": "code",
   "execution_count": 40,
   "id": "984f66f8",
   "metadata": {},
   "outputs": [
    {
     "data": {
      "text/plain": [
       "[10]"
      ]
     },
     "execution_count": 40,
     "metadata": {},
     "output_type": "execute_result"
    }
   ],
   "source": [
    "prvni_seznam = pridej_prvek(10)\n",
    "prvni_seznam"
   ]
  },
  {
   "cell_type": "code",
   "execution_count": 41,
   "id": "b35208e4",
   "metadata": {},
   "outputs": [
    {
     "data": {
      "text/plain": [
       "[10, 20]"
      ]
     },
     "execution_count": 41,
     "metadata": {},
     "output_type": "execute_result"
    }
   ],
   "source": [
    "druhy_seznam = pridej_prvek(20)\n",
    "druhy_seznam"
   ]
  },
  {
   "cell_type": "code",
   "execution_count": 42,
   "id": "a33a908e",
   "metadata": {},
   "outputs": [],
   "source": [
    "def pridej_prvek(prvek,sez = None):\n",
    "    if sez is None:\n",
    "        sez = []\n",
    "    sez.append(prvek)\n",
    "    return sez"
   ]
  },
  {
   "cell_type": "code",
   "execution_count": 43,
   "id": "54b0b41f",
   "metadata": {
    "scrolled": false
   },
   "outputs": [
    {
     "data": {
      "text/plain": [
       "[10]"
      ]
     },
     "execution_count": 43,
     "metadata": {},
     "output_type": "execute_result"
    }
   ],
   "source": [
    "treti_seznam = pridej_prvek(10)\n",
    "treti_seznam"
   ]
  },
  {
   "cell_type": "markdown",
   "id": "82c63bf4",
   "metadata": {},
   "source": [
    "### Non-local\n",
    "* https://www.python.org/dev/peps/pep-3104/"
   ]
  },
  {
   "cell_type": "code",
   "execution_count": 115,
   "id": "c955ced8",
   "metadata": {},
   "outputs": [
    {
     "name": "stdout",
     "output_type": "stream",
     "text": [
      "vnitrni: Pyladies\n",
      "vnejsi: Python\n",
      "global: Pi\n"
     ]
    }
   ],
   "source": [
    "# Bez použití non local\n",
    "name = \"Pi\"\n",
    "\n",
    "def vnejsi_funkce():\n",
    "    name = \"Python\"\n",
    "    def vnitrni_funkce():\n",
    "        name = \"Pyladies\"\n",
    "        print(\"vnitrni:\",name)\n",
    "        \n",
    "    vnitrni_funkce()\n",
    "    print(\"vnejsi:\",name)\n",
    "\n",
    "vnejsi_funkce()\n",
    "print(\"global:\",name)"
   ]
  },
  {
   "cell_type": "code",
   "execution_count": 126,
   "id": "69e3ecfa",
   "metadata": {},
   "outputs": [
    {
     "name": "stdout",
     "output_type": "stream",
     "text": [
      "vnitrni: Pyladies\n",
      "vnejsi: Pyladies\n",
      "global: Pi\n"
     ]
    }
   ],
   "source": [
    "# S použitím non local\n",
    "\n",
    "name = \"Pi\"\n",
    "def vnejsi_funkce():\n",
    "    name = \"Python\"\n",
    "    def vnitrni_funkce():\n",
    "        nonlocal name\n",
    "        name = \"Pyladies\"\n",
    "        print(\"vnitrni:\",name)\n",
    "        \n",
    "    vnitrni_funkce()\n",
    "    print(\"vnejsi:\",name)\n",
    "\n",
    "vnejsi_funkce()\n",
    "print(\"global:\",name)"
   ]
  },
  {
   "cell_type": "markdown",
   "id": "2d434790",
   "metadata": {},
   "source": [
    "# KAPITOLA 2: DEKORÁTORY"
   ]
  },
  {
   "cell_type": "markdown",
   "id": "73bd2b92",
   "metadata": {},
   "source": [
    "![](https://i.kym-cdn.com/photos/images/newsfeed/000/950/450/c54.jpg)"
   ]
  },
  {
   "cell_type": "markdown",
   "id": "5afd76c7",
   "metadata": {},
   "source": [
    "## 2.1: Princip dekorátoru"
   ]
  },
  {
   "cell_type": "markdown",
   "id": "bebfe84b",
   "metadata": {},
   "source": [
    "### Funkce obsahujcí jiné funkce\n"
   ]
  },
  {
   "cell_type": "code",
   "execution_count": 44,
   "id": "6a593abc",
   "metadata": {},
   "outputs": [
    {
     "name": "stdout",
     "output_type": "stream",
     "text": [
      "byla spuštěna funkce hello_world()!\n",
      "vnitrni fce hello_pyladies() spustena....\n",
      "vnitrni fce hello_python() spustena....\n"
     ]
    }
   ],
   "source": [
    "def hello_world():\n",
    "    print(\"byla spuštěna funkce hello_world()!\")\n",
    "    \n",
    "    def hello_pyladies():\n",
    "        print(\"vnitrni fce hello_pyladies() spustena....\")\n",
    "    \n",
    "    def hello_python():\n",
    "        print(\"vnitrni fce hello_python() spustena....\")\n",
    "    \n",
    "    hello_pyladies()\n",
    "    hello_python()\n",
    "    \n",
    "hello_world()\n",
    "    "
   ]
  },
  {
   "cell_type": "markdown",
   "id": "a4db3967",
   "metadata": {},
   "source": [
    "### Funkce vracející funkci "
   ]
  },
  {
   "cell_type": "code",
   "execution_count": 45,
   "id": "7d65e77d",
   "metadata": {},
   "outputs": [],
   "source": [
    "def hello_world(name):\n",
    "    print(\"byla spuštěna funkce hello_world()!\")\n",
    "    \n",
    "    def hello_pyladies():\n",
    "        print(\"vnitrni fce hello_pyladies() spustena....\")\n",
    "        return \"Hello pyladies!\"\n",
    "    \n",
    "    def hello_python():\n",
    "        print(\"vnitrni fce hello_python() spustena....\")\n",
    "        return \"Hello python!\"\n",
    "        \n",
    "    if name == \"Pyladies\":\n",
    "        return hello_pyladies\n",
    "    else:\n",
    "        return hello_python\n",
    "    "
   ]
  },
  {
   "cell_type": "code",
   "execution_count": 46,
   "id": "36545930",
   "metadata": {},
   "outputs": [
    {
     "name": "stdout",
     "output_type": "stream",
     "text": [
      "byla spuštěna funkce hello_world()!\n"
     ]
    }
   ],
   "source": [
    "x = hello_world(\"Pyladies\")"
   ]
  },
  {
   "cell_type": "code",
   "execution_count": 47,
   "id": "e78dadae",
   "metadata": {},
   "outputs": [
    {
     "data": {
      "text/plain": [
       "<function __main__.hello_world.<locals>.hello_pyladies()>"
      ]
     },
     "execution_count": 47,
     "metadata": {},
     "output_type": "execute_result"
    }
   ],
   "source": [
    "x"
   ]
  },
  {
   "cell_type": "code",
   "execution_count": 48,
   "id": "d8deffb5",
   "metadata": {},
   "outputs": [
    {
     "name": "stdout",
     "output_type": "stream",
     "text": [
      "vnitrni fce hello_pyladies() spustena....\n"
     ]
    },
    {
     "data": {
      "text/plain": [
       "'Hello pyladies!'"
      ]
     },
     "execution_count": 48,
     "metadata": {},
     "output_type": "execute_result"
    }
   ],
   "source": [
    "x()"
   ]
  },
  {
   "cell_type": "markdown",
   "id": "26454b14",
   "metadata": {},
   "source": [
    "### Funkce jako argument"
   ]
  },
  {
   "cell_type": "code",
   "execution_count": 49,
   "id": "cae02efd",
   "metadata": {},
   "outputs": [],
   "source": [
    "def hello_world():\n",
    "    return \"byla spuštěna funkce hello_world()!\"\n",
    "    \n",
    "def rozsirujici_funkce(func):\n",
    "    print(\"byla spuštěna funkce  rozsirujici_funkce()\")\n",
    "    func()"
   ]
  },
  {
   "cell_type": "code",
   "execution_count": 50,
   "id": "d279a1f1",
   "metadata": {},
   "outputs": [
    {
     "name": "stdout",
     "output_type": "stream",
     "text": [
      "byla spuštěna funkce  rozsirujici_funkce()\n"
     ]
    },
    {
     "ename": "TypeError",
     "evalue": "'str' object is not callable",
     "output_type": "error",
     "traceback": [
      "\u001b[1;31m---------------------------------------------------------------------------\u001b[0m",
      "\u001b[1;31mTypeError\u001b[0m                                 Traceback (most recent call last)",
      "\u001b[1;32m<ipython-input-50-abfcb3d23a31>\u001b[0m in \u001b[0;36m<module>\u001b[1;34m\u001b[0m\n\u001b[1;32m----> 1\u001b[1;33m \u001b[0mrozsirujici_funkce\u001b[0m\u001b[1;33m(\u001b[0m\u001b[0mhello_world\u001b[0m\u001b[1;33m(\u001b[0m\u001b[1;33m)\u001b[0m\u001b[1;33m)\u001b[0m\u001b[1;33m\u001b[0m\u001b[1;33m\u001b[0m\u001b[0m\n\u001b[0m",
      "\u001b[1;32m<ipython-input-49-a67f6437dc40>\u001b[0m in \u001b[0;36mrozsirujici_funkce\u001b[1;34m(func)\u001b[0m\n\u001b[0;32m      4\u001b[0m \u001b[1;32mdef\u001b[0m \u001b[0mrozsirujici_funkce\u001b[0m\u001b[1;33m(\u001b[0m\u001b[0mfunc\u001b[0m\u001b[1;33m)\u001b[0m\u001b[1;33m:\u001b[0m\u001b[1;33m\u001b[0m\u001b[1;33m\u001b[0m\u001b[0m\n\u001b[0;32m      5\u001b[0m     \u001b[0mprint\u001b[0m\u001b[1;33m(\u001b[0m\u001b[1;34m\"byla spuštěna funkce  rozsirujici_funkce()\"\u001b[0m\u001b[1;33m)\u001b[0m\u001b[1;33m\u001b[0m\u001b[1;33m\u001b[0m\u001b[0m\n\u001b[1;32m----> 6\u001b[1;33m     \u001b[0mfunc\u001b[0m\u001b[1;33m(\u001b[0m\u001b[1;33m)\u001b[0m\u001b[1;33m\u001b[0m\u001b[1;33m\u001b[0m\u001b[0m\n\u001b[0m",
      "\u001b[1;31mTypeError\u001b[0m: 'str' object is not callable"
     ]
    }
   ],
   "source": [
    "# CHYBA !!!\n",
    "rozsirujici_funkce(hello_world())"
   ]
  },
  {
   "cell_type": "code",
   "execution_count": 53,
   "id": "39e77ca5",
   "metadata": {},
   "outputs": [
    {
     "name": "stdout",
     "output_type": "stream",
     "text": [
      "byla spuštěna funkce  rozsirujici_funkce()\n"
     ]
    }
   ],
   "source": [
    "# ŘEŠENÍ\n",
    "rozsirujici_funkce(hello_world)"
   ]
  },
  {
   "cell_type": "markdown",
   "id": "3a90d42b",
   "metadata": {},
   "source": [
    "## 2.2: Vlastní dekorátor"
   ]
  },
  {
   "cell_type": "code",
   "execution_count": 52,
   "id": "4cbecdbf",
   "metadata": {},
   "outputs": [
    {
     "name": "stdout",
     "output_type": "stream",
     "text": [
      "Dekorace před spuštěním\n",
      "Nedekorovany prosty text\n",
      "Dekorace po spuštění\n"
     ]
    }
   ],
   "source": [
    "def dekorator(func):\n",
    "    \n",
    "    def obal():\n",
    "        print(\"Dekorace před spuštěním\")\n",
    "        \n",
    "        func()\n",
    "        \n",
    "        print(\"Dekorace po spuštění\")\n",
    "        \n",
    "    return obal\n",
    "\n",
    "def funkce_k_dekorovani():\n",
    "    print(\"Nedekorovany prosty text\")\n",
    "      \n",
    "funkce_k_dekorovani = dekorator(funkce_k_dekorovani)\n",
    "funkce_k_dekorovani()"
   ]
  },
  {
   "cell_type": "code",
   "execution_count": 20,
   "id": "9a77d99a",
   "metadata": {},
   "outputs": [
    {
     "name": "stdout",
     "output_type": "stream",
     "text": [
      "Dekorace před spuštěním\n",
      "Nedekorovany prosty text\n",
      "Dekorace po spuštění\n"
     ]
    }
   ],
   "source": [
    "@dekorator\n",
    "def funkce_k_dekorovani():\n",
    "    print(\"Nedekorovany prosty text\")\n",
    "    \n",
    "funkce_k_dekorovani()"
   ]
  },
  {
   "cell_type": "code",
   "execution_count": 8,
   "id": "b244d580",
   "metadata": {},
   "outputs": [
    {
     "name": "stdout",
     "output_type": "stream",
     "text": [
      "Nedekorovany prosty text\n"
     ]
    }
   ],
   "source": [
    "#@dekorator\n",
    "def funkce_k_dekorovani():\n",
    "    print(\"Nedekorovany prosty text\")\n",
    "    \n",
    "funkce_k_dekorovani()"
   ]
  },
  {
   "cell_type": "markdown",
   "id": "eb7f4202",
   "metadata": {},
   "source": [
    "#### Dekorovaná funkce s parametrem"
   ]
  },
  {
   "cell_type": "code",
   "execution_count": 1,
   "id": "8dc59a49",
   "metadata": {},
   "outputs": [],
   "source": [
    "# CHYBA !!!!\n",
    "def dekorator(func):\n",
    "    \n",
    "    def obal():\n",
    "        print(\"Dekorace před spuštěním\")\n",
    "        \n",
    "        func()\n",
    "        \n",
    "        print(\"Dekorace po spuštění\")\n",
    "        \n",
    "    return obal\n",
    "\n",
    "def funkce_k_dekorovani(name):\n",
    "    print(f\"Hello:{name}\")"
   ]
  },
  {
   "cell_type": "code",
   "execution_count": 2,
   "id": "75e96367",
   "metadata": {},
   "outputs": [
    {
     "name": "stdout",
     "output_type": "stream",
     "text": [
      "Dekorace před spuštěním\n"
     ]
    },
    {
     "ename": "TypeError",
     "evalue": "funkce_k_dekorovani() missing 1 required positional argument: 'name'",
     "output_type": "error",
     "traceback": [
      "\u001b[1;31m---------------------------------------------------------------------------\u001b[0m",
      "\u001b[1;31mTypeError\u001b[0m                                 Traceback (most recent call last)",
      "\u001b[1;32m<ipython-input-2-f04e314daadf>\u001b[0m in \u001b[0;36m<module>\u001b[1;34m\u001b[0m\n\u001b[0;32m      3\u001b[0m     \u001b[0mprint\u001b[0m\u001b[1;33m(\u001b[0m\u001b[1;34mf\"Hello:{name}\"\u001b[0m\u001b[1;33m)\u001b[0m\u001b[1;33m\u001b[0m\u001b[1;33m\u001b[0m\u001b[0m\n\u001b[0;32m      4\u001b[0m \u001b[1;33m\u001b[0m\u001b[0m\n\u001b[1;32m----> 5\u001b[1;33m \u001b[0mfunkce__k_dekorovani\u001b[0m\u001b[1;33m(\u001b[0m\u001b[1;33m)\u001b[0m\u001b[1;33m\u001b[0m\u001b[1;33m\u001b[0m\u001b[0m\n\u001b[0m",
      "\u001b[1;32m<ipython-input-1-b83bb6891d38>\u001b[0m in \u001b[0;36mobal\u001b[1;34m()\u001b[0m\n\u001b[0;32m      5\u001b[0m         \u001b[0mprint\u001b[0m\u001b[1;33m(\u001b[0m\u001b[1;34m\"Dekorace před spuštěním\"\u001b[0m\u001b[1;33m)\u001b[0m\u001b[1;33m\u001b[0m\u001b[1;33m\u001b[0m\u001b[0m\n\u001b[0;32m      6\u001b[0m \u001b[1;33m\u001b[0m\u001b[0m\n\u001b[1;32m----> 7\u001b[1;33m         \u001b[0mfunc\u001b[0m\u001b[1;33m(\u001b[0m\u001b[1;33m)\u001b[0m\u001b[1;33m\u001b[0m\u001b[1;33m\u001b[0m\u001b[0m\n\u001b[0m\u001b[0;32m      8\u001b[0m \u001b[1;33m\u001b[0m\u001b[0m\n\u001b[0;32m      9\u001b[0m         \u001b[0mprint\u001b[0m\u001b[1;33m(\u001b[0m\u001b[1;34m\"Dekorace po spuštění\"\u001b[0m\u001b[1;33m)\u001b[0m\u001b[1;33m\u001b[0m\u001b[1;33m\u001b[0m\u001b[0m\n",
      "\u001b[1;31mTypeError\u001b[0m: funkce__k_dekorovani() missing 1 required positional argument: 'name'"
     ]
    }
   ],
   "source": [
    "@dekorator\n",
    "def funkce_k_dekorovani(name):\n",
    "    print(f\"Hello:{name}\")\n",
    "    \n",
    "funkce__k_dekorovani()"
   ]
  },
  {
   "cell_type": "code",
   "execution_count": 197,
   "id": "b95f8db7",
   "metadata": {},
   "outputs": [],
   "source": [
    "# ŘEŠENÍ\n",
    "def dekorator(func):\n",
    "    \n",
    "    def obal(*args,**kwargs):\n",
    "        print(\"Dekorace před spuštěním\")\n",
    "        \n",
    "        func(*args,**kwargs)\n",
    "        \n",
    "        print(\"Dekorace po spuštění\")\n",
    "        \n",
    "    return obal\n",
    "\n",
    "def funkce_k_dekorovani(name):\n",
    "    print(f\"Hello:{name}\")"
   ]
  },
  {
   "cell_type": "code",
   "execution_count": 198,
   "id": "33d9edd4",
   "metadata": {
    "scrolled": true
   },
   "outputs": [
    {
     "name": "stdout",
     "output_type": "stream",
     "text": [
      "Dekorace před spuštěním\n",
      "Hello:Pyladies\n",
      "Dekorace po spuštění\n"
     ]
    }
   ],
   "source": [
    "@dekorator\n",
    "def funkce_k_dekorovani(name):\n",
    "    print(f\"Hello:{name}\")\n",
    "    \n",
    "funkce_k_dekorovani(\"Pyladies\")"
   ]
  },
  {
   "attachments": {
    "66jpy0.jpg": {
     "image/jpeg": "[encoded data removed]"
    }
   },
   "cell_type": "markdown",
   "id": "c7551755",
   "metadata": {},
   "source": [
    "![66jpy0.jpg](attachment:66jpy0.jpg)"
   ]
  },
  {
   "cell_type": "markdown",
   "id": "0c07f0a2",
   "metadata": {},
   "source": [
    "### Úkol: Vymyslete a napiště vlastní dekorátor"
   ]
  },
  {
   "cell_type": "markdown",
   "id": "26544f85",
   "metadata": {},
   "source": [
    "## 2.2: Typy dekorátorů"
   ]
  },
  {
   "cell_type": "markdown",
   "id": "9e14e5a3",
   "metadata": {},
   "source": [
    "### Dekorátor který nemění funkci (Register)\n",
    "* Například registrace funkcí"
   ]
  },
  {
   "cell_type": "markdown",
   "id": "17de2fb7",
   "metadata": {},
   "source": [
    "#### Bez použití dekorátor"
   ]
  },
  {
   "cell_type": "code",
   "execution_count": 199,
   "id": "4ecf8d79",
   "metadata": {},
   "outputs": [],
   "source": [
    "operators = {}\n",
    "def register_operator(func):\n",
    "    operators[func.__name__] = func\n",
    "\n",
    "def add(a, b):\n",
    "    return a + b\n",
    "\n",
    "register_operator(add)"
   ]
  },
  {
   "cell_type": "markdown",
   "id": "9c7ddb73",
   "metadata": {},
   "source": [
    "#### S použitím dekorátoru"
   ]
  },
  {
   "cell_type": "code",
   "execution_count": 200,
   "id": "0b53131d",
   "metadata": {},
   "outputs": [],
   "source": [
    "operators = {}\n",
    "\n",
    "def register_operator(func):\n",
    "    operators[func.__name__] = func\n",
    "    return func\n",
    "\n",
    "@register_operator\n",
    "def add(a, b):\n",
    "    return a + b"
   ]
  },
  {
   "cell_type": "code",
   "execution_count": 201,
   "id": "57cd0601",
   "metadata": {},
   "outputs": [
    {
     "data": {
      "text/plain": [
       "{'add': <function __main__.add(a, b)>}"
      ]
     },
     "execution_count": 201,
     "metadata": {},
     "output_type": "execute_result"
    }
   ],
   "source": [
    "operators"
   ]
  },
  {
   "cell_type": "code",
   "execution_count": 202,
   "id": "79bb1258",
   "metadata": {},
   "outputs": [
    {
     "data": {
      "text/plain": [
       "30"
      ]
     },
     "execution_count": 202,
     "metadata": {},
     "output_type": "execute_result"
    }
   ],
   "source": [
    "a = 10\n",
    "b = 20\n",
    "operator_name = \"add\"\n",
    "\n",
    "func = operators[operator_name]\n",
    "func(a, b)"
   ]
  },
  {
   "cell_type": "markdown",
   "id": "6b83a072",
   "metadata": {},
   "source": [
    "### Dekorátor upravující funkci (Basic decorator)\n",
    "* Rozšíření funkcionalit"
   ]
  },
  {
   "cell_type": "code",
   "execution_count": 215,
   "id": "8c1c7923",
   "metadata": {},
   "outputs": [],
   "source": [
    "def to_floats(func):\n",
    "    \n",
    "    def vnitrni_funkce(a, b):\n",
    "        a = float(a)\n",
    "        b = float(b)\n",
    "        return func(a, b)\n",
    "    \n",
    "    return vnitrni_funkce\n",
    "\n",
    "@to_floats\n",
    "def add(a, b):\n",
    "    \"\"\"Adds two numbers\"\"\"\n",
    "    return a + b"
   ]
  },
  {
   "cell_type": "code",
   "execution_count": 216,
   "id": "383ffe85",
   "metadata": {
    "scrolled": true
   },
   "outputs": [
    {
     "data": {
      "text/plain": [
       "3.0"
      ]
     },
     "execution_count": 216,
     "metadata": {},
     "output_type": "execute_result"
    }
   ],
   "source": [
    "add(1, '2')"
   ]
  },
  {
   "cell_type": "markdown",
   "id": "29509fba",
   "metadata": {},
   "source": [
    "### Úkol: Jak by vypadalo použití to_floats bez dekorátoru ?"
   ]
  },
  {
   "cell_type": "markdown",
   "id": "fa2230a4",
   "metadata": {},
   "source": [
    "### Dekorátor s parametrem"
   ]
  },
  {
   "cell_type": "code",
   "execution_count": 205,
   "id": "2da44225",
   "metadata": {},
   "outputs": [],
   "source": [
    "def opakovani(pocet):\n",
    "    \n",
    "    def decorator_opakovani(func):\n",
    "        \n",
    "        def wrapper_opakovani(*args, **kwargs):\n",
    "            \n",
    "            for _ in range(pocet):\n",
    "                value = func(*args, **kwargs)\n",
    "            return value\n",
    "        \n",
    "        return wrapper_opakovani\n",
    "    \n",
    "    return decorator_opakovani"
   ]
  },
  {
   "cell_type": "code",
   "execution_count": 206,
   "id": "304305e5",
   "metadata": {},
   "outputs": [
    {
     "name": "stdout",
     "output_type": "stream",
     "text": [
      "Hello Pyladies\n",
      "Hello Pyladies\n",
      "Hello Pyladies\n",
      "Hello Pyladies\n"
     ]
    }
   ],
   "source": [
    "@opakovani(pocet=4)\n",
    "def hello(name):\n",
    "    print(f\"Hello {name}\")\n",
    "\n",
    "hello(\"Pyladies\")"
   ]
  },
  {
   "cell_type": "markdown",
   "id": "4ee46cc8",
   "metadata": {},
   "source": [
    "### Dekorátor třídy"
   ]
  },
  {
   "cell_type": "code",
   "execution_count": 217,
   "id": "30fc734d",
   "metadata": {},
   "outputs": [],
   "source": [
    "class Values:\n",
    "    def __init__(self, name, price, quantity):\n",
    "        self.name = name\n",
    "        self.price = price\n",
    "        self.quantity = quantity\n",
    "        \n",
    "    def total_cost(self):\n",
    "        return self.price * self.quantity"
   ]
  },
  {
   "cell_type": "code",
   "execution_count": 218,
   "id": "15a2db9c",
   "metadata": {},
   "outputs": [
    {
     "data": {
      "text/plain": [
       "100"
      ]
     },
     "execution_count": 218,
     "metadata": {},
     "output_type": "execute_result"
    }
   ],
   "source": [
    "v = Values(10,100,1)\n",
    "v.total_cost()"
   ]
  },
  {
   "cell_type": "code",
   "execution_count": 219,
   "id": "9ed8f4f1",
   "metadata": {},
   "outputs": [
    {
     "data": {
      "text/plain": [
       "<__main__.Values at 0x21845301280>"
      ]
     },
     "execution_count": 219,
     "metadata": {},
     "output_type": "execute_result"
    }
   ],
   "source": [
    "v"
   ]
  },
  {
   "cell_type": "code",
   "execution_count": 220,
   "id": "44adf6ee",
   "metadata": {},
   "outputs": [],
   "source": [
    "from dataclasses import dataclass\n",
    "\n",
    "@dataclass\n",
    "class Values:\n",
    "    name: str\n",
    "    price: float\n",
    "    quantity: int\n",
    "        \n",
    "    def total_cost(self):\n",
    "        return self.price * self.quantity\n",
    "        "
   ]
  },
  {
   "cell_type": "code",
   "execution_count": 221,
   "id": "9aaaf715",
   "metadata": {},
   "outputs": [
    {
     "data": {
      "text/plain": [
       "100"
      ]
     },
     "execution_count": 221,
     "metadata": {},
     "output_type": "execute_result"
    }
   ],
   "source": [
    "v = Values(10,100,1)\n",
    "v.total_cost()"
   ]
  },
  {
   "cell_type": "code",
   "execution_count": 228,
   "id": "fa69cc49",
   "metadata": {},
   "outputs": [
    {
     "data": {
      "text/plain": [
       "Values(name=10, price=100, quantity=1)"
      ]
     },
     "execution_count": 228,
     "metadata": {},
     "output_type": "execute_result"
    }
   ],
   "source": [
    "v"
   ]
  },
  {
   "cell_type": "markdown",
   "id": "f54dbb9d",
   "metadata": {},
   "source": [
    "### Doplnění"
   ]
  },
  {
   "cell_type": "markdown",
   "id": "9d8e4317",
   "metadata": {},
   "source": [
    "#### Skládání dekorátorů"
   ]
  },
  {
   "cell_type": "code",
   "execution_count": 238,
   "id": "69db5d37",
   "metadata": {},
   "outputs": [],
   "source": [
    "def dekorator(func):\n",
    "    def obal():\n",
    "        print(\"Dekorace před spuštěním\")\n",
    "        func()\n",
    "        print(\"Dekorace po spuštění\")\n",
    "        \n",
    "    return obal\n",
    "\n",
    "def dvakrat(func):\n",
    "    def obal():\n",
    "        func()\n",
    "        func()\n",
    "        \n",
    "    return obal\n",
    "    \n",
    "@dekorator\n",
    "@dvakrat\n",
    "def funkce_k_dekorovani():\n",
    "    print(f\"Hello Pyladies\")"
   ]
  },
  {
   "cell_type": "code",
   "execution_count": 252,
   "id": "26df5c2f",
   "metadata": {},
   "outputs": [
    {
     "name": "stdout",
     "output_type": "stream",
     "text": [
      "Dekorace před spuštěním\n",
      "Hello Pyladies\n",
      "Dekorace po spuštění\n"
     ]
    }
   ],
   "source": [
    "funkce_k_dekorovani()"
   ]
  },
  {
   "cell_type": "markdown",
   "id": "21e8466c",
   "metadata": {},
   "source": [
    "### Identita dekorovaných funkcí"
   ]
  },
  {
   "cell_type": "code",
   "execution_count": 253,
   "id": "80f50f3f",
   "metadata": {},
   "outputs": [
    {
     "data": {
      "text/plain": [
       "'funkce_k_dekorovani'"
      ]
     },
     "execution_count": 253,
     "metadata": {},
     "output_type": "execute_result"
    }
   ],
   "source": [
    "def funkce_k_dekorovani():\n",
    "    print(f\"Hello Pyladies\")\n",
    "    \n",
    "funkce_k_dekorovani.__name__"
   ]
  },
  {
   "cell_type": "code",
   "execution_count": 255,
   "id": "bd15039b",
   "metadata": {},
   "outputs": [
    {
     "data": {
      "text/plain": [
       "'obal'"
      ]
     },
     "execution_count": 255,
     "metadata": {},
     "output_type": "execute_result"
    }
   ],
   "source": [
    "def dekorator(func):\n",
    "    def obal():\n",
    "        print(\"Dekorace před spuštěním\")\n",
    "        func()\n",
    "        print(\"Dekorace po spuštění\")\n",
    "        \n",
    "    return obal\n",
    "\n",
    "    \n",
    "@dekorator\n",
    "def funkce_k_dekorovani():\n",
    "    print(f\"Hello Pyladies\")\n",
    "    \n",
    "funkce_k_dekorovani.__name__"
   ]
  },
  {
   "cell_type": "code",
   "execution_count": 260,
   "id": "3a6653bd",
   "metadata": {},
   "outputs": [
    {
     "data": {
      "text/plain": [
       "'funkce_k_dekorovani'"
      ]
     },
     "execution_count": 260,
     "metadata": {},
     "output_type": "execute_result"
    }
   ],
   "source": [
    "import functools\n",
    "\n",
    "def dekorator(func):\n",
    "    @functools.wraps(func)\n",
    "    def obal():\n",
    "        print(\"Dekorace před spuštěním\")\n",
    "        func()\n",
    "        print(\"Dekorace po spuštění\")\n",
    "        \n",
    "    return obal\n",
    "\n",
    "    \n",
    "@dekorator\n",
    "def funkce_k_dekorovani():\n",
    "    print(f\"Hello Pyladies\")\n",
    "    \n",
    "funkce_k_dekorovani.__name__"
   ]
  }
 ],
 "metadata": {
  "kernelspec": {
   "display_name": "Python 3",
   "language": "python",
   "name": "python3"
  },
  "language_info": {
   "codemirror_mode": {
    "name": "ipython",
    "version": 3
   },
   "file_extension": ".py",
   "mimetype": "text/x-python",
   "name": "python",
   "nbconvert_exporter": "python",
   "pygments_lexer": "ipython3",
   "version": "3.8.8"
  }
 },
 "nbformat": 4,
 "nbformat_minor": 5
}
